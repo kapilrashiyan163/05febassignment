{
 "cells": [
  {
   "cell_type": "code",
   "execution_count": 8,
   "id": "0aa32694-fa8d-4705-bdd0-fab47f5c2e19",
   "metadata": {},
   "outputs": [
    {
     "ename": "SyntaxError",
     "evalue": "unterminated string literal (detected at line 2) (918723330.py, line 2)",
     "output_type": "error",
     "traceback": [
      "\u001b[0;36m  Cell \u001b[0;32mIn[8], line 2\u001b[0;36m\u001b[0m\n\u001b[0;31m    Class = Classes are simply blueprints for creating objects. Think of a class like an architect's blueprint for building a house.\u001b[0m\n\u001b[0m                                                                                                  ^\u001b[0m\n\u001b[0;31mSyntaxError\u001b[0m\u001b[0;31m:\u001b[0m unterminated string literal (detected at line 2)\n"
     ]
    }
   ],
   "source": [
    "'''Q1. Explain Class and Object with respect to Object-Oriented Programming. Give a suitable example.'''\n",
    "Class = Classes are simply blueprints for creating objects. Think of a class like an architect's blueprint for building a house.\n",
    "        The beauty of classes is that they allow you to create objects that behave in a consistent and predictable way.\n",
    "\n",
    "        A class has its own attributes, objects, and methods.\n",
    "\n",
    "        In simple terms:\n",
    "\n",
    "        Attributes: What the class looks like\n",
    "        Methods: What the class does\n",
    "        Objects: What the class is\n",
    "        \n",
    "Object = An Object can be defined as an instance of a class. An object contains an address and takes up some space in memory.\n",
    "         Objects can communicate without knowing the details of each other's data or code.\n",
    "         The only necessary thing is the type of message accepted and the type of response returned by the objects."
   ]
  },
  {
   "cell_type": "code",
   "execution_count": 9,
   "id": "9214d2f0-b944-4d87-808b-d5b2a1674d6a",
   "metadata": {},
   "outputs": [],
   "source": [
    "class pwskills():\n",
    "    def welcome_msg(self):\n",
    "        print(\"welcome to pwskills\")"
   ]
  },
  {
   "cell_type": "code",
   "execution_count": 10,
   "id": "82d3722b-9fe1-47a8-879f-ada300e52e32",
   "metadata": {},
   "outputs": [],
   "source": [
    "guru=pwskills()"
   ]
  },
  {
   "cell_type": "code",
   "execution_count": 11,
   "id": "658370bf-d9a2-4854-84c1-0c385cae1d20",
   "metadata": {},
   "outputs": [
    {
     "name": "stdout",
     "output_type": "stream",
     "text": [
      "welcome to pwskills\n"
     ]
    }
   ],
   "source": [
    "guru.welcome_msg()  "
   ]
  },
  {
   "cell_type": "code",
   "execution_count": 12,
   "id": "75b5bda3-b778-4b18-a0d1-2ba4976146de",
   "metadata": {},
   "outputs": [
    {
     "ename": "SyntaxError",
     "evalue": "invalid syntax (2820467253.py, line 2)",
     "output_type": "error",
     "traceback": [
      "\u001b[0;36m  Cell \u001b[0;32mIn[12], line 2\u001b[0;36m\u001b[0m\n\u001b[0;31m    Abstraction.\u001b[0m\n\u001b[0m                ^\u001b[0m\n\u001b[0;31mSyntaxError\u001b[0m\u001b[0;31m:\u001b[0m invalid syntax\n"
     ]
    }
   ],
   "source": [
    "#Q2. Name the four pillars of OOPs.\n",
    "Abstraction.\n",
    "Encapsulation.\n",
    "Inheritance.\n",
    "Polymorphism."
   ]
  },
  {
   "cell_type": "code",
   "execution_count": null,
   "id": "51ed342c-540e-4629-bed9-80e0d727979f",
   "metadata": {},
   "outputs": [],
   "source": [
    "#Q3. Explain why the __init__() function is used. Give a suitable example.\n",
    "he examples above are classes and objects in their simplest form, and are not really useful in real life applications.\n",
    "\n",
    "To understand the meaning of classes we have to understand the built-in __init__() function.\n",
    "\n",
    "All classes have a function called __init__(), which is always executed when the class is being initiated.\n",
    "\n",
    "Use the __init__() function to assign values to object properties, or other operations that are necessary to do when the object is being created:"
   ]
  },
  {
   "cell_type": "code",
   "execution_count": null,
   "id": "fdc0977e-00ff-469f-861b-c6afd5812163",
   "metadata": {},
   "outputs": [],
   "source": [
    "#Q4. Why self is used in OOPs?\n",
    "Self represents the instance of the class. \n",
    "By using the “self” we can access the attributes and methods of the class in Python. \n",
    "It binds the attributes with the given arguments. The reason you need to use self.\n",
    "is because Python does not use the @ syntax to refer to instance attributes."
   ]
  },
  {
   "cell_type": "code",
   "execution_count": null,
   "id": "80464708-362a-4d4c-b308-31f8141fb76a",
   "metadata": {},
   "outputs": [],
   "source": [
    "#Q5. What is inheritance? Give an example for each type of inheritance.\n",
    "\n",
    "Inheritance is defined as the mechanism of inheriting the properties of the base class to the child class. \n",
    "Here we a going to see the types of inheritance in Python.\n",
    "1.single inheritance\n",
    "2.multiple inheritance\n",
    "3.multilevel inheritance\n",
    "4.Hierarchical inheritance\n",
    "5.hybrid inheritance"
   ]
  }
 ],
 "metadata": {
  "kernelspec": {
   "display_name": "Python 3 (ipykernel)",
   "language": "python",
   "name": "python3"
  },
  "language_info": {
   "codemirror_mode": {
    "name": "ipython",
    "version": 3
   },
   "file_extension": ".py",
   "mimetype": "text/x-python",
   "name": "python",
   "nbconvert_exporter": "python",
   "pygments_lexer": "ipython3",
   "version": "3.10.8"
  }
 },
 "nbformat": 4,
 "nbformat_minor": 5
}
